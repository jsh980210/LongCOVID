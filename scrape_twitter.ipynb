{
 "cells": [
  {
   "cell_type": "code",
   "execution_count": 1,
   "id": "d2d25593",
   "metadata": {},
   "outputs": [],
   "source": [
    "import pandas as pd\n",
    "import numpy as np\n",
    "from tqdm.notebook import tqdm\n",
    "import snscrape.modules.twitter as sntwitter"
   ]
  },
  {
   "cell_type": "code",
   "execution_count": 2,
   "id": "aa959626",
   "metadata": {},
   "outputs": [],
   "source": [
    "import datetime\n",
    "import pytz\n",
    "\n",
    "utc=pytz.UTC"
   ]
  },
  {
   "cell_type": "code",
   "execution_count": 3,
   "id": "3c36792d",
   "metadata": {},
   "outputs": [
    {
     "data": {
      "application/vnd.jupyter.widget-view+json": {
       "model_id": "65ec4ecd2b3141449a7365d0e711898f",
       "version_major": 2,
       "version_minor": 0
      },
      "text/plain": [
       "0it [00:00, ?it/s]"
      ]
     },
     "metadata": {},
     "output_type": "display_data"
    }
   ],
   "source": [
    "scraper = sntwitter.TwitterSearchScraper(\"#LongCOVID\")\n",
    "tweets = []\n",
    "for i, tweet in tqdm(enumerate(scraper.get_items())):\n",
    "    data = [tweet.date, tweet.id, tweet.rawContent, tweet.user.username, tweet.likeCount, tweet.retweetCount]\n",
    "    tweets.append(data)\n",
    "    if tweet.date.year < 2020 or i>10000:\n",
    "        break\n"
   ]
  },
  {
   "cell_type": "code",
   "execution_count": null,
   "id": "636ac4c3",
   "metadata": {},
   "outputs": [],
   "source": []
  },
  {
   "cell_type": "code",
   "execution_count": 4,
   "id": "8e25eec7",
   "metadata": {},
   "outputs": [],
   "source": [
    "tweet_df = pd.DataFrame(tweets, columns = ['date', 'id', 'content', 'username', 'like_count', 'retweet_count'])"
   ]
  },
  {
   "cell_type": "code",
   "execution_count": 5,
   "id": "c2441573",
   "metadata": {},
   "outputs": [
    {
     "data": {
      "text/html": [
       "<div>\n",
       "<style scoped>\n",
       "    .dataframe tbody tr th:only-of-type {\n",
       "        vertical-align: middle;\n",
       "    }\n",
       "\n",
       "    .dataframe tbody tr th {\n",
       "        vertical-align: top;\n",
       "    }\n",
       "\n",
       "    .dataframe thead th {\n",
       "        text-align: right;\n",
       "    }\n",
       "</style>\n",
       "<table border=\"1\" class=\"dataframe\">\n",
       "  <thead>\n",
       "    <tr style=\"text-align: right;\">\n",
       "      <th></th>\n",
       "      <th>date</th>\n",
       "      <th>id</th>\n",
       "      <th>content</th>\n",
       "      <th>username</th>\n",
       "      <th>like_count</th>\n",
       "      <th>retweet_count</th>\n",
       "    </tr>\n",
       "  </thead>\n",
       "  <tbody>\n",
       "    <tr>\n",
       "      <th>0</th>\n",
       "      <td>2023-03-18 13:25:06+00:00</td>\n",
       "      <td>1637082701772517376</td>\n",
       "      <td>i love humans. dense. #longcovid https://t.co/...</td>\n",
       "      <td>intoyourether</td>\n",
       "      <td>0</td>\n",
       "      <td>0</td>\n",
       "    </tr>\n",
       "    <tr>\n",
       "      <th>1</th>\n",
       "      <td>2023-03-18 13:24:43+00:00</td>\n",
       "      <td>1637082606440267781</td>\n",
       "      <td>If a restriction on participation is imposed (...</td>\n",
       "      <td>ShaneyWright</td>\n",
       "      <td>1</td>\n",
       "      <td>0</td>\n",
       "    </tr>\n",
       "    <tr>\n",
       "      <th>2</th>\n",
       "      <td>2023-03-18 13:24:25+00:00</td>\n",
       "      <td>1637082530984673283</td>\n",
       "      <td>We should have a public inquiry similar to Tru...</td>\n",
       "      <td>ShireenJ</td>\n",
       "      <td>0</td>\n",
       "      <td>0</td>\n",
       "    </tr>\n",
       "    <tr>\n",
       "      <th>3</th>\n",
       "      <td>2023-03-18 13:24:20+00:00</td>\n",
       "      <td>1637082507681120257</td>\n",
       "      <td>‼️coalitie. Luister eens. Spreek! Waar is je h...</td>\n",
       "      <td>leonline007</td>\n",
       "      <td>0</td>\n",
       "      <td>0</td>\n",
       "    </tr>\n",
       "    <tr>\n",
       "      <th>4</th>\n",
       "      <td>2023-03-18 13:22:35+00:00</td>\n",
       "      <td>1637082070173319169</td>\n",
       "      <td>Of note: I count at least 13 different meds tr...</td>\n",
       "      <td>nisamalli</td>\n",
       "      <td>0</td>\n",
       "      <td>0</td>\n",
       "    </tr>\n",
       "    <tr>\n",
       "      <th>...</th>\n",
       "      <td>...</td>\n",
       "      <td>...</td>\n",
       "      <td>...</td>\n",
       "      <td>...</td>\n",
       "      <td>...</td>\n",
       "      <td>...</td>\n",
       "    </tr>\n",
       "    <tr>\n",
       "      <th>9997</th>\n",
       "      <td>2023-03-13 19:31:00+00:00</td>\n",
       "      <td>1635362844010246147</td>\n",
       "      <td>El próximo 15 de marzo será el primer Día Inte...</td>\n",
       "      <td>EjeCentral</td>\n",
       "      <td>1</td>\n",
       "      <td>1</td>\n",
       "    </tr>\n",
       "    <tr>\n",
       "      <th>9998</th>\n",
       "      <td>2023-03-13 19:29:31+00:00</td>\n",
       "      <td>1635362471698665472</td>\n",
       "      <td>@doc_ecmo @Karl_Lauterbach Wär ja nice, wenn e...</td>\n",
       "      <td>Filzkop</td>\n",
       "      <td>0</td>\n",
       "      <td>0</td>\n",
       "    </tr>\n",
       "    <tr>\n",
       "      <th>9999</th>\n",
       "      <td>2023-03-13 19:29:15+00:00</td>\n",
       "      <td>1635362403318902784</td>\n",
       "      <td>Ist den Verantwortlichen in der Politik bewuss...</td>\n",
       "      <td>TimoStrotmann</td>\n",
       "      <td>111</td>\n",
       "      <td>11</td>\n",
       "    </tr>\n",
       "    <tr>\n",
       "      <th>10000</th>\n",
       "      <td>2023-03-13 19:29:10+00:00</td>\n",
       "      <td>1635362385698656259</td>\n",
       "      <td>@DanBurritt @bctoday My life has changed drast...</td>\n",
       "      <td>dreamy_run</td>\n",
       "      <td>0</td>\n",
       "      <td>0</td>\n",
       "    </tr>\n",
       "    <tr>\n",
       "      <th>10001</th>\n",
       "      <td>2023-03-13 19:27:33+00:00</td>\n",
       "      <td>1635361978880520192</td>\n",
       "      <td>We are absolutely thrilled to be hosting @herl...</td>\n",
       "      <td>monimunozto</td>\n",
       "      <td>5</td>\n",
       "      <td>3</td>\n",
       "    </tr>\n",
       "  </tbody>\n",
       "</table>\n",
       "<p>10002 rows × 6 columns</p>\n",
       "</div>"
      ],
      "text/plain": [
       "                           date                   id  \\\n",
       "0     2023-03-18 13:25:06+00:00  1637082701772517376   \n",
       "1     2023-03-18 13:24:43+00:00  1637082606440267781   \n",
       "2     2023-03-18 13:24:25+00:00  1637082530984673283   \n",
       "3     2023-03-18 13:24:20+00:00  1637082507681120257   \n",
       "4     2023-03-18 13:22:35+00:00  1637082070173319169   \n",
       "...                         ...                  ...   \n",
       "9997  2023-03-13 19:31:00+00:00  1635362844010246147   \n",
       "9998  2023-03-13 19:29:31+00:00  1635362471698665472   \n",
       "9999  2023-03-13 19:29:15+00:00  1635362403318902784   \n",
       "10000 2023-03-13 19:29:10+00:00  1635362385698656259   \n",
       "10001 2023-03-13 19:27:33+00:00  1635361978880520192   \n",
       "\n",
       "                                                 content       username  \\\n",
       "0      i love humans. dense. #longcovid https://t.co/...  intoyourether   \n",
       "1      If a restriction on participation is imposed (...   ShaneyWright   \n",
       "2      We should have a public inquiry similar to Tru...       ShireenJ   \n",
       "3      ‼️coalitie. Luister eens. Spreek! Waar is je h...    leonline007   \n",
       "4      Of note: I count at least 13 different meds tr...      nisamalli   \n",
       "...                                                  ...            ...   \n",
       "9997   El próximo 15 de marzo será el primer Día Inte...     EjeCentral   \n",
       "9998   @doc_ecmo @Karl_Lauterbach Wär ja nice, wenn e...        Filzkop   \n",
       "9999   Ist den Verantwortlichen in der Politik bewuss...  TimoStrotmann   \n",
       "10000  @DanBurritt @bctoday My life has changed drast...     dreamy_run   \n",
       "10001  We are absolutely thrilled to be hosting @herl...    monimunozto   \n",
       "\n",
       "       like_count  retweet_count  \n",
       "0               0              0  \n",
       "1               1              0  \n",
       "2               0              0  \n",
       "3               0              0  \n",
       "4               0              0  \n",
       "...           ...            ...  \n",
       "9997            1              1  \n",
       "9998            0              0  \n",
       "9999          111             11  \n",
       "10000           0              0  \n",
       "10001           5              3  \n",
       "\n",
       "[10002 rows x 6 columns]"
      ]
     },
     "execution_count": 5,
     "metadata": {},
     "output_type": "execute_result"
    }
   ],
   "source": [
    "tweet_df"
   ]
  },
  {
   "cell_type": "code",
   "execution_count": 6,
   "id": "6c9e661d",
   "metadata": {},
   "outputs": [
    {
     "data": {
      "text/plain": [
       "0        False\n",
       "1         True\n",
       "2         True\n",
       "3         True\n",
       "4        False\n",
       "         ...  \n",
       "9997      True\n",
       "9998      True\n",
       "9999      True\n",
       "10000     True\n",
       "10001     True\n",
       "Name: content, Length: 10002, dtype: bool"
      ]
     },
     "execution_count": 6,
     "metadata": {},
     "output_type": "execute_result"
    }
   ],
   "source": [
    "tweet_df['content'].str.contains('Covid')"
   ]
  },
  {
   "cell_type": "code",
   "execution_count": null,
   "id": "f206f591",
   "metadata": {},
   "outputs": [],
   "source": []
  }
 ],
 "metadata": {
  "kernelspec": {
   "display_name": "Python 3 (ipykernel)",
   "language": "python",
   "name": "python3"
  },
  "language_info": {
   "codemirror_mode": {
    "name": "ipython",
    "version": 3
   },
   "file_extension": ".py",
   "mimetype": "text/x-python",
   "name": "python",
   "nbconvert_exporter": "python",
   "pygments_lexer": "ipython3",
   "version": "3.9.13"
  }
 },
 "nbformat": 4,
 "nbformat_minor": 5
}
